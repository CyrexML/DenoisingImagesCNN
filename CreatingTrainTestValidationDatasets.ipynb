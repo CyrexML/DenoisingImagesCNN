{
 "cells": [
  {
   "cell_type": "code",
   "execution_count": 1,
   "outputs": [],
   "source": [
    "import os\n",
    "import random\n",
    "import shutil\n",
    "\n",
    "data_dir = \"D:/labSem6/Obrazy1\"\n",
    "clean_data_dir = os.path.join(data_dir, \"ObrazyCzyste\")\n",
    "noisy_data_dir = os.path.join(data_dir, \"ObrazySzum\")\n",
    "\n",
    "base_dir = os.path.join(data_dir, \"Obrazy\")\n",
    "train_dir = os.path.join(base_dir, \"train\")\n",
    "test_dir = os.path.join(base_dir, \"test\")\n",
    "validation_dir = os.path.join(base_dir, \"validation\")\n",
    "\n",
    "# Создание директорий для train, test и validation\n",
    "os.makedirs(train_dir, exist_ok=True)\n",
    "os.makedirs(test_dir, exist_ok=True)\n",
    "os.makedirs(validation_dir, exist_ok=True)\n",
    "\n",
    "# Подсчет количества изображений для каждой части (train, test, validation)\n",
    "num_images = len(os.listdir(clean_data_dir))\n",
    "num_train = int(0.7 * num_images)\n",
    "num_test = int(0.15 * num_images)\n",
    "num_validation = num_images - num_train - num_test\n",
    "\n",
    "# Получение случайного списка индексов изображений\n",
    "image_indices = list(range(num_images))\n",
    "random.shuffle(image_indices)\n",
    "\n",
    "# Размещение изображений в соответствующих директориях\n",
    "for i, idx in enumerate(image_indices):\n",
    "    image_file = os.listdir(clean_data_dir)[idx]\n",
    "    clean_image_path = os.path.join(clean_data_dir, image_file)\n",
    "    noisy_image_path = os.path.join(noisy_data_dir, image_file)\n",
    "\n",
    "    if i < num_train:\n",
    "        destination_dir = os.path.join(train_dir, \"czyste\")\n",
    "        destination_clean_path = os.path.join(destination_dir, image_file)\n",
    "        destination_noisy_dir = os.path.join(train_dir, \"zaszumione\")\n",
    "        destination_noisy_path = os.path.join(destination_noisy_dir, image_file)\n",
    "    elif i < num_train + num_test:\n",
    "        destination_dir = os.path.join(test_dir, \"czyste\")\n",
    "        destination_clean_path = os.path.join(destination_dir, image_file)\n",
    "        destination_noisy_dir = os.path.join(test_dir, \"zaszumione\")\n",
    "        destination_noisy_path = os.path.join(destination_noisy_dir, image_file)\n",
    "    else:\n",
    "        destination_dir = os.path.join(validation_dir, \"czyste\")\n",
    "        destination_clean_path = os.path.join(destination_dir, image_file)\n",
    "        destination_noisy_dir = os.path.join(validation_dir, \"zaszumione\")\n",
    "        destination_noisy_path = os.path.join(destination_noisy_dir, image_file)\n",
    "\n",
    "    os.makedirs(destination_dir, exist_ok=True)\n",
    "    os.makedirs(destination_noisy_dir, exist_ok=True)\n",
    "\n",
    "    shutil.copy(clean_image_path, destination_clean_path)\n",
    "    shutil.copy(noisy_image_path, destination_noisy_path)\n"
   ],
   "metadata": {
    "collapsed": false,
    "ExecuteTime": {
     "end_time": "2023-06-30T15:59:46.848302900Z",
     "start_time": "2023-06-30T15:59:14.707607500Z"
    }
   }
  },
  {
   "cell_type": "code",
   "execution_count": null,
   "outputs": [],
   "source": [],
   "metadata": {
    "collapsed": false
   }
  },
  {
   "cell_type": "code",
   "execution_count": null,
   "outputs": [],
   "source": [],
   "metadata": {
    "collapsed": false
   }
  }
 ],
 "metadata": {
  "kernelspec": {
   "display_name": "Python 3",
   "language": "python",
   "name": "python3"
  },
  "language_info": {
   "codemirror_mode": {
    "name": "ipython",
    "version": 2
   },
   "file_extension": ".py",
   "mimetype": "text/x-python",
   "name": "python",
   "nbconvert_exporter": "python",
   "pygments_lexer": "ipython2",
   "version": "2.7.6"
  }
 },
 "nbformat": 4,
 "nbformat_minor": 0
}
